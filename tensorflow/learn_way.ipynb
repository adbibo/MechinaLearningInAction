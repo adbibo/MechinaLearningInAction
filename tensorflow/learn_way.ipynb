{
 "cells": [
  {
   "cell_type": "code",
   "execution_count": 1,
   "metadata": {
    "collapsed": true
   },
   "outputs": [],
   "source": [
    "import tensorflow as tf"
   ]
  },
  {
   "cell_type": "code",
   "execution_count": 3,
   "metadata": {},
   "outputs": [],
   "source": [
    "sess = tf.Session()"
   ]
  },
  {
   "cell_type": "code",
   "execution_count": 12,
   "metadata": {},
   "outputs": [
    {
     "name": "stdout",
     "output_type": "stream",
     "text": [
      "0\n0.75\n0.0\n2.0\n2\n2.0\n2\n"
     ]
    }
   ],
   "source": [
    "print(sess.run(tf.div(3, 4)))\n",
    "print(sess.run(tf.truediv(3, 4)))\n",
    "print(sess.run(tf.floordiv(3.0, 4.0)))\n",
    "print(sess.run(tf.mod(22.0, 5.0)))\n",
    "print(sess.run(tf.mod(22, 5)))\n",
    "print(sess.run(tf.mod(22.0, 5)))\n",
    "print(sess.run(tf.mod(22, 5)))"
   ]
  },
  {
   "cell_type": "code",
   "execution_count": 13,
   "metadata": {},
   "outputs": [
    {
     "name": "stdout",
     "output_type": "stream",
     "text": [
      "[ 0.  0.  1.]\n"
     ]
    }
   ],
   "source": [
    "print(sess.run(tf.cross([1., 0, 0], [0, 1., 0])))"
   ]
  },
  {
   "cell_type": "code",
   "execution_count": 16,
   "metadata": {},
   "outputs": [
    {
     "name": "stdout",
     "output_type": "stream",
     "text": [
      "3.0\n9.0\n15.0\n21.0\n27.0\n"
     ]
    }
   ],
   "source": [
    "import numpy as np\n",
    "\n",
    "x_vals = np.array([1., 3., 5., 7., 9.])\n",
    "x_data = tf.placeholder(tf.float32)\n",
    "m_const = tf.constant(3.)\n",
    "my_product = tf.multiply(x_data, m_const)\n",
    "for x_val in x_vals:\n",
    "    print(sess.run(my_product, feed_dict={x_data: x_val}))"
   ]
  },
  {
   "cell_type": "code",
   "execution_count": 20,
   "metadata": {},
   "outputs": [
    {
     "name": "stdout",
     "output_type": "stream",
     "text": [
      "[[ 1.  3.  5.  7.  9.]\n [-2.  0.  2.  4.  6.]\n [-6. -3.  0.  3.  6.]]\n[[ 46.]\n [ 28.]\n [ 24.]]\n[[ 102.]\n [  66.]\n [  58.]]\n[[  2.   4.   6.   8.  10.]\n [ -1.   1.   3.   5.   7.]\n [ -5.  -2.   1.   4.   7.]]\n[[ 52.]\n [ 34.]\n [ 30.]]\n[[ 114.]\n [  78.]\n [  70.]]\n"
     ]
    }
   ],
   "source": [
    "my_arrays = np.array([[1., 3., 5., 7., 9.],\n",
    "                      [-2., 0., 2., 4., 6.],\n",
    "                      [-6., -3., 0., 3., 6.]])\n",
    "x_vals = np.array([my_arrays, my_arrays + 1])\n",
    "\n",
    "x_data = tf.placeholder(tf.float32, shape=(3, 5))\n",
    "\n",
    "m1 = tf.constant([[1.], [0.], [-1.], [2.], [4.]])\n",
    "m2 = tf.constant([[2.]])\n",
    "a1 = tf.constant([[10.]])\n",
    "\n",
    "prod1 = tf.matmul(x_data, m1)\n",
    "prod2 = tf.matmul(prod1, m2)\n",
    "add1 = tf.add(prod2, a1)\n",
    "\n",
    "for x_val in x_vals:\n",
    "    print(x_val)\n",
    "    print(sess.run(prod1, feed_dict={x_data: x_val}))\n",
    "    print(sess.run(add1, feed_dict={x_data: x_val}))\n"
   ]
  },
  {
   "cell_type": "code",
   "execution_count": 21,
   "metadata": {},
   "outputs": [
    {
     "name": "stdout",
     "output_type": "stream",
     "text": [
      "[[ 0.92461473  0.91808361]\n [ 0.88576722  0.87027287]]\n"
     ]
    }
   ],
   "source": [
    "x_shape = [1, 4, 4, 1]\n",
    "x_val = np.random.uniform(size=x_shape)\n",
    "\n",
    "x_data = tf.placeholder(tf.float32, shape=x_shape)\n",
    "\n",
    "my_filter = tf.constant(0.25, shape=[2, 2, 1, 1])\n",
    "my_strides = [1, 2, 2, 1]\n",
    "mov_avg_layer = tf.nn.conv2d(x_data, my_filter, my_strides, padding='SAME''', name='Moving_Avg_Window')\n",
    "\n",
    "\n",
    "def custom_layer(input_matrix):\n",
    "    input_matrix_sqeezed = tf.squeeze(input_matrix)\n",
    "    A = tf.constant([[1., 2.], [-1., 3.]])\n",
    "    b = tf.constant(1., shape=[2, 2])\n",
    "    temp1 = tf.matmul(A, input_matrix_sqeezed)\n",
    "    temp = tf.add(temp1, b)\n",
    "    return tf.sigmoid(temp)\n",
    "\n",
    "\n",
    "with tf.name_scope('Custom_layer') as scope:\n",
    "    custom_layer1 = custom_layer(mov_avg_layer)\n",
    "    print(sess.run(custom_layer1, feed_dict={x_data: x_val}))\n"
   ]
  }
 ],
 "metadata": {
  "kernelspec": {
   "display_name": "Python 2",
   "language": "python",
   "name": "python2"
  },
  "language_info": {
   "codemirror_mode": {
    "name": "ipython",
    "version": 2
   },
   "file_extension": ".py",
   "mimetype": "text/x-python",
   "name": "python",
   "nbconvert_exporter": "python",
   "pygments_lexer": "ipython2",
   "version": "2.7.6"
  }
 },
 "nbformat": 4,
 "nbformat_minor": 0
}
